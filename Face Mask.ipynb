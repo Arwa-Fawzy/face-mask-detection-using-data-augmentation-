{
 "cells": [
  {
   "cell_type": "code",
   "execution_count": 18,
   "id": "0ddf2aea",
   "metadata": {},
   "outputs": [],
   "source": [
    "import pathlib \n",
    "from keras.preprocessing.image import ImageDataGenerator\n",
    "import numpy as np\n",
    "from keras.layers import Input, Conv2D, MaxPooling2D, Dropout, Flatten, Dense\n",
    "from keras.callbacks import ReduceLROnPlateau\n",
    "from keras.models import Model\n",
    "from sklearn.metrics import classification_report, confusion_matrix, accuracy_score\n",
    "import matplotlib.pyplot as plt\n",
    "\n",
    "\n",
    "\n"
   ]
  },
  {
   "cell_type": "code",
   "execution_count": 2,
   "id": "5a7cbef5",
   "metadata": {},
   "outputs": [],
   "source": [
    "dataset_path = pathlib.Path('E:/CS/Robotics club/face mask/Face Mask Dataset')\n",
    "Test_path = 'E:/CS/Robotics club/face mask/Face Mask Dataset/Test'\n",
    "Train_path = 'E:/CS/Robotics club/face mask/Face Mask Dataset/Train'\n",
    "Val_path = 'E:/CS/Robotics club/face mask/Face Mask Dataset/Validation'\n",
    "\n"
   ]
  },
  {
   "cell_type": "code",
   "execution_count": 26,
   "id": "5c4946dd",
   "metadata": {},
   "outputs": [
    {
     "name": "stdout",
     "output_type": "stream",
     "text": [
      "Found 10000 images belonging to 2 classes.\n",
      "Found 800 images belonging to 2 classes.\n",
      "Found 992 images belonging to 2 classes.\n"
     ]
    }
   ],
   "source": [
    "#Image data generatro is a class in keras that assembles data augmentation methods \n",
    "#augmentation means increasing the data or becoming larger rather than collecting more images manually \n",
    "# rescale multiplies every pixel in the preprocessing image \n",
    "# shear range makes the computer vision see the images from differenct angels as the human eye behavior \n",
    "train_datagen = ImageDataGenerator(rescale = 1./255, shear_range = 0.2, zoom_range = 0.2, rotation_range=0.2)\n",
    "val_datagen = ImageDataGenerator(rescale = 1./255, shear_range = 0.2, zoom_range = 0.2)\n",
    "#Image normalization #(rescale pixel values from the range of 0-255 to the range 0-1)\n",
    "test_datagen = ImageDataGenerator(rescale = 1./255)  \n",
    "training_set = train_datagen.flow_from_directory(Train_path, target_size = (128, 128), interpolation=\"nearest\", \n",
    "class_mode='binary', classes=[\"WithoutMask\",\"WithMask\"])\n",
    "\n",
    "#interpolation knows the unknown data between two known points of data  \n",
    "validation_set = val_datagen.flow_from_directory(Val_path, target_size=(128, 128), interpolation=\"nearest\", class_mode='binary',\n",
    "classes=[\"WithoutMask\",\"WithMask\"])\n",
    "\n",
    "test_set = test_datagen.flow_from_directory(Test_path, target_size = (128, 128), interpolation=\"nearest\", class_mode='binary',\n",
    "classes=[\"WithoutMask\",\"WithMask\"])\n",
    "\n"
   ]
  },
  {
   "cell_type": "code",
   "execution_count": 8,
   "id": "eb44e6e9",
   "metadata": {},
   "outputs": [],
   "source": [
    "#function to convert the image into array \n",
    "def GetXY(gen):\n",
    "    listX = []\n",
    "    listY = []\n",
    "    for i in range(gen.__len__()):\n",
    "        gennext = gen.next()\n",
    "        listX.append(gennext[0])\n",
    "        listY.append(gennext[1])\n",
    "    x=np.concatenate(listX)\n",
    "    y=np.concatenate(listY)\n",
    "    return (x,y)"
   ]
  },
  {
   "cell_type": "code",
   "execution_count": 28,
   "id": "da800f40",
   "metadata": {},
   "outputs": [],
   "source": [
    "#assign the training and testing data in variables after augmentation and becoming array \n",
    "trainX,trainY = GetXY(training_set)\n",
    "valX,valY = GetXY(validation_set)\n",
    "testX,testY = GetXY(test_set)"
   ]
  },
  {
   "cell_type": "code",
   "execution_count": 27,
   "id": "cb009721",
   "metadata": {},
   "outputs": [
    {
     "name": "stdout",
     "output_type": "stream",
     "text": [
      "Model: \"model_2\"\n",
      "_________________________________________________________________\n",
      " Layer (type)                Output Shape              Param #   \n",
      "=================================================================\n",
      " input_4 (InputLayer)        [(None, 128, 128, 3)]     0         \n",
      "                                                                 \n",
      " conv2d_9 (Conv2D)           (None, 126, 126, 32)      896       \n",
      "                                                                 \n",
      " max_pooling2d_9 (MaxPooling  (None, 31, 31, 32)       0         \n",
      " 2D)                                                             \n",
      "                                                                 \n",
      " dropout_9 (Dropout)         (None, 31, 31, 32)        0         \n",
      "                                                                 \n",
      " conv2d_10 (Conv2D)          (None, 29, 29, 32)        9248      \n",
      "                                                                 \n",
      " max_pooling2d_10 (MaxPoolin  (None, 14, 14, 32)       0         \n",
      " g2D)                                                            \n",
      "                                                                 \n",
      " dropout_10 (Dropout)        (None, 14, 14, 32)        0         \n",
      "                                                                 \n",
      " conv2d_11 (Conv2D)          (None, 12, 12, 32)        9248      \n",
      "                                                                 \n",
      " max_pooling2d_11 (MaxPoolin  (None, 6, 6, 32)         0         \n",
      " g2D)                                                            \n",
      "                                                                 \n",
      " dropout_11 (Dropout)        (None, 6, 6, 32)          0         \n",
      "                                                                 \n",
      " flatten_3 (Flatten)         (None, 1152)              0         \n",
      "                                                                 \n",
      " dense_6 (Dense)             (None, 128)               147584    \n",
      "                                                                 \n",
      " dense_7 (Dense)             (None, 1)                 129       \n",
      "                                                                 \n",
      "=================================================================\n",
      "Total params: 167,105\n",
      "Trainable params: 167,105\n",
      "Non-trainable params: 0\n",
      "_________________________________________________________________\n"
     ]
    }
   ],
   "source": [
    "#the convolution procuders has three repeated steps for 3 times (conv2D, Maxpooling,Dropout)\n",
    "#1st convolution \n",
    "input_data = Input(shape=(128, 128, 3))\n",
    "x = Conv2D(32, (3, 3), activation=\"relu\")(input_data) #ReLU takes any value greater than 0 without change; otherwise, the value is 0\n",
    "x = MaxPooling2D(pool_size = (4, 4), strides=(4, 4))(x) # takes the max value of each 4x4 matrix \n",
    "x = Dropout(0.25)(x) #reduces the overfitting and the large complex number in NN \n",
    "#2nd convolution \n",
    "x = Conv2D(32, (3, 3), activation=\"relu\")(x)\n",
    "x = MaxPooling2D(pool_size = (2, 2))(x)\n",
    "x = Dropout(0.3)(x)\n",
    "#3rd convolution \n",
    "x = Conv2D(32, (3, 3), activation='relu')(x)\n",
    "x = MaxPooling2D(pool_size=(2, 2))(x)\n",
    "x = Dropout(0.3)(x)\n",
    "#fully connected layer formed by feature maps were fabricated by the former convolution\n",
    "x = Flatten()(x)\n",
    "x = Dense(128, activation = 'relu')(x)\n",
    "output = Dense(1, activation = 'sigmoid')(x) #sigmoid range is [0,1] for reducing the loss value during the training \n",
    "cnn = Model(inputs=input_data, outputs=output)\n",
    "# Compiling the Neural network\n",
    "cnn.compile(optimizer = 'adam', loss = 'binary_crossentropy', metrics = ['accuracy'])\n",
    "#adam can handle sparse gradients on noisy problems\n",
    "#cross entropy measures the difference between two events or probabilities and it is binary to set 0 withmask and 1 withoutmask\n",
    "cnn.summary()"
   ]
  },
  {
   "cell_type": "code",
   "execution_count": 11,
   "id": "01465907",
   "metadata": {},
   "outputs": [
    {
     "name": "stdout",
     "output_type": "stream",
     "text": [
      "Epoch 1/15\n",
      "313/313 [==============================] - 71s 207ms/step - loss: 0.2100 - accuracy: 0.9132 - val_loss: 0.1452 - val_accuracy: 0.9525 - lr: 0.0010\n",
      "Epoch 2/15\n",
      "313/313 [==============================] - 66s 211ms/step - loss: 0.0933 - accuracy: 0.9659 - val_loss: 0.0592 - val_accuracy: 0.9862 - lr: 0.0010\n",
      "Epoch 3/15\n",
      "313/313 [==============================] - 67s 213ms/step - loss: 0.0683 - accuracy: 0.9778 - val_loss: 0.0314 - val_accuracy: 0.9937 - lr: 0.0010\n",
      "Epoch 4/15\n",
      "313/313 [==============================] - 67s 215ms/step - loss: 0.0501 - accuracy: 0.9823 - val_loss: 0.0315 - val_accuracy: 0.9912 - lr: 0.0010\n",
      "Epoch 5/15\n",
      "313/313 [==============================] - 66s 211ms/step - loss: 0.0402 - accuracy: 0.9869 - val_loss: 0.0334 - val_accuracy: 0.9912 - lr: 0.0010\n",
      "Epoch 6/15\n",
      "313/313 [==============================] - 68s 216ms/step - loss: 0.0364 - accuracy: 0.9871 - val_loss: 0.0212 - val_accuracy: 0.9925 - lr: 0.0010\n",
      "Epoch 7/15\n",
      "313/313 [==============================] - 67s 214ms/step - loss: 0.0375 - accuracy: 0.9869 - val_loss: 0.0266 - val_accuracy: 0.9925 - lr: 0.0010\n",
      "Epoch 8/15\n",
      "313/313 [==============================] - 65s 209ms/step - loss: 0.0331 - accuracy: 0.9884 - val_loss: 0.0191 - val_accuracy: 0.9937 - lr: 0.0010\n",
      "Epoch 9/15\n",
      "313/313 [==============================] - 65s 209ms/step - loss: 0.0329 - accuracy: 0.9888 - val_loss: 0.0202 - val_accuracy: 0.9950 - lr: 0.0010\n",
      "Epoch 10/15\n",
      "313/313 [==============================] - 67s 214ms/step - loss: 0.0301 - accuracy: 0.9895 - val_loss: 0.0216 - val_accuracy: 0.9950 - lr: 0.0010\n",
      "Epoch 11/15\n",
      "313/313 [==============================] - 68s 216ms/step - loss: 0.0268 - accuracy: 0.9904 - val_loss: 0.0173 - val_accuracy: 0.9962 - lr: 0.0010\n",
      "Epoch 12/15\n",
      "313/313 [==============================] - 69s 220ms/step - loss: 0.0238 - accuracy: 0.9910 - val_loss: 0.0175 - val_accuracy: 0.9937 - lr: 0.0010\n",
      "Epoch 13/15\n",
      "313/313 [==============================] - 66s 210ms/step - loss: 0.0243 - accuracy: 0.9907 - val_loss: 0.0162 - val_accuracy: 0.9925 - lr: 0.0010\n",
      "Epoch 14/15\n",
      "313/313 [==============================] - 67s 213ms/step - loss: 0.0204 - accuracy: 0.9929 - val_loss: 0.0271 - val_accuracy: 0.9912 - lr: 0.0010\n",
      "Epoch 15/15\n",
      "313/313 [==============================] - 66s 212ms/step - loss: 0.0180 - accuracy: 0.9941 - val_loss: 0.0080 - val_accuracy: 0.9987 - lr: 0.0010\n"
     ]
    }
   ],
   "source": [
    "#ReduceLROnPlateau is for reducing the learning rate when the model stops improving during the training\n",
    "callbacks = [ReduceLROnPlateau(monitor='loss', factor=0.5, patience=5, min_lr=0.00001)]\n",
    "history = cnn.fit(trainX, trainY, epochs = 15, verbose = 1, batch_size=32, validation_data = (valX, valY), callbacks=callbacks)\n",
    "#batch size is the number of samples that are chosen for training with each epoch\n"
   ]
  },
  {
   "cell_type": "code",
   "execution_count": 15,
   "id": "89185d7c",
   "metadata": {},
   "outputs": [
    {
     "name": "stdout",
     "output_type": "stream",
     "text": [
      "31/31 - 2s - loss: 0.0260 - accuracy: 0.9909 - 2s/epoch - 59ms/step\n",
      "              precision    recall  f1-score   support\n",
      "\n",
      "         0.0       0.99      1.00      0.99       509\n",
      "         1.0       1.00      0.99      0.99       483\n",
      "\n",
      "    accuracy                           0.99       992\n",
      "   macro avg       0.99      0.99      0.99       992\n",
      "weighted avg       0.99      0.99      0.99       992\n",
      "\n",
      "[[507   2]\n",
      " [  7 476]]\n"
     ]
    }
   ],
   "source": [
    "cnn.evaluate(testX, testY, verbose=2)\n",
    "#verbose is for regular expression and readable patterns\n",
    "predict = (cnn.predict(testX) > 0.5).astype(\"int32\")\n",
    "print(classification_report(testY,predict))\n",
    "print(confusion_matrix(testY, predict))\n",
    "#confusion matrix is table or classifier for the positive and negative probabilties or results \n",
    "#recall = true positive / (true positive +false negative)\n",
    "#f1 score = relation between recall and precision \n",
    "#support is the true samples in the specified class\n"
   ]
  },
  {
   "cell_type": "code",
   "execution_count": 16,
   "id": "98028204",
   "metadata": {},
   "outputs": [
    {
     "name": "stdout",
     "output_type": "stream",
     "text": [
      "Accuracy: 0.9909274193548387\n"
     ]
    }
   ],
   "source": [
    "print('Accuracy:', accuracy_score(testY, predict))\n"
   ]
  },
  {
   "cell_type": "code",
   "execution_count": 23,
   "id": "d0f70021",
   "metadata": {},
   "outputs": [
    {
     "data": {
      "image/png": "[encoded data removed]",
      "text/plain": [
       "<Figure size 432x288 with 1 Axes>"
      ]
     },
     "metadata": {
      "needs_background": "light"
     },
     "output_type": "display_data"
    }
   ],
   "source": [
    "#loss value vs epochs graph\n",
    "plt.plot(history.history['loss'])\n",
    "plt.plot(history.history['val_loss'])\n",
    "plt.title('face mask - loss')\n",
    "plt.ylabel('loss')\n",
    "plt.xlabel('epoch')\n",
    "plt.legend(['train', 'test'], loc='upper left')\n",
    "plt.show()"
   ]
  },
  {
   "cell_type": "code",
   "execution_count": 25,
   "id": "c114b66e",
   "metadata": {},
   "outputs": [
    {
     "data": {
      "image/png": "[encoded data removed]",
      "text/plain": [
       "<Figure size 432x288 with 1 Axes>"
      ]
     },
     "metadata": {
      "needs_background": "light"
     },
     "output_type": "display_data"
    }
   ],
   "source": [
    "# accuracy vs epochs graph \n",
    "plt.plot(history.history['accuracy'])\n",
    "plt.plot(history.history['val_accuracy'])\n",
    "plt.title('face mask - accuracy')\n",
    "plt.ylabel('accuracy')\n",
    "plt.xlabel('epoch')\n",
    "plt.legend(['train', 'test'], loc='upper left')\n",
    "plt.show()\n",
    "#according to both of them, the model is neither underfitting nor overfitting "
   ]
  },
  {
   "cell_type": "code",
   "execution_count": null,
   "id": "49dd1977",
   "metadata": {},
   "outputs": [],
   "source": []
  }
 ],
 "metadata": {
  "kernelspec": {
   "display_name": "Python 3 (ipykernel)",
   "language": "python",
   "name": "python3"
  },
  "language_info": {
   "codemirror_mode": {
    "name": "ipython",
    "version": 3
   },
   "file_extension": ".py",
   "mimetype": "text/x-python",
   "name": "python",
   "nbconvert_exporter": "python",
   "pygments_lexer": "ipython3",
   "version": "3.9.7"
  }
 },
 "nbformat": 4,
 "nbformat_minor": 5
}
